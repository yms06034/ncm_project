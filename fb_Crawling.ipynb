{
 "cells": [
  {
   "cell_type": "code",
   "execution_count": 109,
   "id": "e267e00c",
   "metadata": {},
   "outputs": [],
   "source": [
    "from selenium import webdriver\n",
    "from selenium.webdriver.common.keys import Keys\n",
    "from selenium.webdriver.chrome.service import Service\n",
    "from lxml import etree\n",
    "from bs4 import BeautifulSoup as bs\n",
    "import requests\n",
    "import time\n",
    "from webdriver_manager.chrome import ChromeDriverManager\n",
    "service = Service(ChromeDriverManager().install())\n",
    "\n",
    "#set secret mode\n",
    "options = webdriver.ChromeOptions()\n",
    "options.add_argument('--no-sandbox')\n",
    "options.add_argument('no-sandox')\n",
    "options.add_argument('--disable-dev-shm-usage')\n",
    "options.add_argument('--start-maximized')\n",
    "options.add_argument('incognito')\n",
    "# options.add_argument('--headless')\n",
    "\n",
    "browser = webdriver.Chrome(service=service, options=options)\n",
    "\n",
    "#open browser\n",
    "browser.get(\"https://www.facebook.com/\")\n",
    "time.sleep(1)\n",
    "\n",
    "#log info, search keyword\n",
    "user = \"shm8485@gmail.com\"\n",
    "pwd = \"sohee8485\"\n",
    "keyword = \"음식\\n\"\n",
    "\n",
    "#login\n",
    "elem = browser.find_element(\"id\", \"email\")\n",
    "elem.send_keys(user)\n",
    "\n",
    "elem = browser.find_element(\"id\", \"pass\")\n",
    "elem.send_keys(pwd)\n",
    "\n",
    "browser.find_element(\"xpath\",\"/html/body/div[1]/div[1]/div[1]/div/div/div/div[2]/div/div[1]/form/div[2]/button\").click()\n",
    "time.sleep(3)\n",
    "\n",
    "#search\n",
    "elem = browser.find_element(\"xpath\", \"/html/body/div[1]/div/div[1]/div/div[2]/div[3]/div/div/div/div/div/label/input\")\n",
    "elem.send_keys(keyword)\n",
    "elem.send_keys(Keys.RETURN)\n",
    "time.sleep(1)\n",
    "elem = browser.find_element(\"xpath\", \"/html/body/div[1]/div/div[1]/div/div[3]/div/div/div/div[2]/div[1]/div[1]/div/div[2]/div[1]/div[2]/div/div/div[2]/div/div[3]/div/a/div[1]\")\n",
    "elem.click()\n",
    "\n",
    "time.sleep(1)\n",
    "\n",
    "\"\"\"\n",
    "# 현재 scrollHeight 가져오기\n",
    "last_height = browser.execute_script(\"return document.body.scrollHeight\")\n",
    "\n",
    "while True:\n",
    "    # scrollHeight까지 스크롤\n",
    "    browser.execute_script(\"window.scrollTo(0, document.body.scrollHeight);\")\n",
    "\n",
    "    # 새로운 내용 로딩될때까지 기다림\n",
    "    time.sleep(0.5)\n",
    "\n",
    "    # 새로운 내용 로딩됐는지 확인\n",
    "    new_height = browser.execute_script(\"return document.body.scrollHeight\")\n",
    "#    print(\"new_height: \", new_height)\n",
    "    if new_height == last_height:\n",
    "        break\n",
    "    last_height = new_height\n",
    "#    print(\"laast_height: \", last_height)\n",
    "#    print(\"-------------------------\")\n",
    "\n",
    "\"\"\"\n",
    "\n",
    "\n",
    "soup = bs(browser.page_source, \"html.parser\") \n",
    "\n",
    "top_elements = soup.find_all(\"a\")\n",
    "\n",
    "final_href = []\n",
    "\n",
    "for i in top_elements:\n",
    "    href = i.attrs['href']\n",
    "    final_href.append(href)\n",
    "    \n",
    "url = \"https://www.facebook.com/profile.php?id=\"\n",
    "lists = []\n",
    "\n",
    "for i in final_href:\n",
    "    if url in i:\n",
    "        a_lists = i.split(\"&\")\n",
    "        lists.append(a_lists)\n",
    "        \n",
    "\n",
    "final_list = [i for i in lists if len(i) <= 1]\n",
    "\n",
    "browser.get(f\"{URL}&sk=about\")\n",
    "\n",
    "soup2 = bs(browser.page_source, \"html.parser\") \n",
    "soup2 = soup2.find(class_=\"xyamay9 xqmdsaz x1gan7if x1swvt13\")\n",
    "information = soup2.text\n",
    "print(information)"
   ]
  },
  {
   "cell_type": "code",
   "execution_count": 110,
   "id": "9f606e84",
   "metadata": {},
   "outputs": [
    {
     "name": "stdout",
     "output_type": "stream",
     "text": [
      "음식 Owner표시할 학교 정보 없음강원도 고성 거주제주도 제주 출신표시할 결혼/연애 상태 정보 없음\n"
     ]
    }
   ],
   "source": [
    "information = soup2.text\n",
    "print(information)"
   ]
  },
  {
   "cell_type": "code",
   "execution_count": 102,
   "id": "90413221",
   "metadata": {},
   "outputs": [
    {
     "data": {
      "text/plain": [
       "['목산공예관 010 6768 0057',\n",
       " ' 전라남도 무형문화재 제56호 목조각장',\n",
       " ' 대한민국명장회 목공예 명장이전 직장: 도서 _마음으로 새긴 우리 무늬 및 도서 _김규석 목공예표시할 학교 정보 없음표시할 장소 없음기혼010-6768-0057휴대폰']"
      ]
     },
     "execution_count": 102,
     "metadata": {},
     "output_type": "execute_result"
    }
   ],
   "source": [
    "information.split(',')"
   ]
  },
  {
   "cell_type": "code",
   "execution_count": 89,
   "id": "8b6c610c",
   "metadata": {},
   "outputs": [
    {
     "name": "stdout",
     "output_type": "stream",
     "text": [
      "https://www.facebook.com/profile.php?id=100093391917881\n",
      "https://www.facebook.com/profile.php?id=100055445097227\n",
      "https://www.facebook.com/profile.php?id=100015588133246\n",
      "https://www.facebook.com/profile.php?id=100031236492005\n",
      "https://www.facebook.com/profile.php?id=100085227364003\n"
     ]
    }
   ],
   "source": [
    "for href in final_list:\n",
    "    print(href[0])"
   ]
  },
  {
   "cell_type": "code",
   "execution_count": 62,
   "id": "b176e7d4",
   "metadata": {},
   "outputs": [],
   "source": [
    "final_href = []\n",
    "\n",
    "for i in top_elements:\n",
    "    href = i.attrs['href']\n",
    "    final_href.append(href)"
   ]
  },
  {
   "cell_type": "code",
   "execution_count": 86,
   "id": "03c2cfab",
   "metadata": {},
   "outputs": [
    {
     "name": "stdout",
     "output_type": "stream",
     "text": [
      "[['https://www.facebook.com/profile.php?id=100093391917881'], ['https://www.facebook.com/profile.php?id=100055445097227'], ['https://www.facebook.com/profile.php?id=100015588133246'], ['https://www.facebook.com/profile.php?id=100031236492005'], ['https://www.facebook.com/profile.php?id=100085227364003']]\n"
     ]
    }
   ],
   "source": [
    "url = \"https://www.facebook.com/profile.php?id=\"\n",
    "lists = []\n",
    "\n",
    "for i in final_href:\n",
    "    if url in i:\n",
    "        a_lists = i.split(\"&\")\n",
    "        lists.append(a_lists)\n",
    "        \n",
    "\n",
    "final_list = [i for i in lists if len(i) <= 1]\n",
    "\n",
    "print(final_list)"
   ]
  },
  {
   "cell_type": "code",
   "execution_count": 22,
   "id": "80048742",
   "metadata": {},
   "outputs": [
    {
     "name": "stdout",
     "output_type": "stream",
     "text": [
      "[] [] []\n"
     ]
    }
   ],
   "source": [
    "import requests\n",
    "from lxml.html import fromstring\n",
    "\n",
    "r = requests.get('https://www.rottentomatoes.com/m/leto')\n",
    "root = fromstring(r.text)\n",
    "\n",
    "directed = root.xpath(\"//*[contains(.,'Directed By')]/parent::*/*[@class='meta-value']/a/text()\")\n",
    "written = root.xpath(\"//*[contains(.,'Written By')]/parent::*/*[@class='meta-value']/a/text()\")\n",
    "written_links = root.xpath(\".//*[contains(.,'Written By')]/parent::*/*[@class='meta-value']/a//@href\")\n",
    "print(directed,written,written_links)"
   ]
  }
 ],
 "metadata": {
  "kernelspec": {
   "display_name": "Python 3 (ipykernel)",
   "language": "python",
   "name": "python3"
  },
  "language_info": {
   "codemirror_mode": {
    "name": "ipython",
    "version": 3
   },
   "file_extension": ".py",
   "mimetype": "text/x-python",
   "name": "python",
   "nbconvert_exporter": "python",
   "pygments_lexer": "ipython3",
   "version": "3.10.9"
  }
 },
 "nbformat": 4,
 "nbformat_minor": 5
}
