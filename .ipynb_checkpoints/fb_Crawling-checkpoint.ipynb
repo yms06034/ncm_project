{
 "cells": [
  {
   "cell_type": "code",
   "execution_count": 59,
   "id": "e267e00c",
   "metadata": {},
   "outputs": [],
   "source": [
    "from selenium import webdriver\n",
    "from selenium.webdriver.common.keys import Keys\n",
    "from selenium.webdriver.chrome.service import Service\n",
    "from lxml import etree\n",
    "from bs4 import BeautifulSoup as bs\n",
    "import requests\n",
    "import time\n",
    "from webdriver_manager.chrome import ChromeDriverManager\n",
    "service = Service(ChromeDriverManager().install())\n",
    "\n",
    "#set secret mode\n",
    "options = webdriver.ChromeOptions()\n",
    "options.add_argument('--no-sandbox')\n",
    "options.add_argument('no-sandox')\n",
    "options.add_argument('--disable-dev-shm-usage')\n",
    "options.add_argument('--start-maximized')\n",
    "options.add_argument('incognito')\n",
    "options.add_argument('--headless')\n",
    "\n",
    "browser = webdriver.Chrome(service=service, options=options)\n",
    "\n",
    "#open browser\n",
    "browser.get(\"https://www.facebook.com/\")\n",
    "time.sleep(1)\n",
    "\n",
    "#log info, search keyword\n",
    "user = \"shm8485@gmail.com\"\n",
    "pwd = \"sohee8485\"\n",
    "keyword = \"음식\\n\"\n",
    "\n",
    "#login\n",
    "elem = browser.find_element(\"id\", \"email\")\n",
    "elem.send_keys(user)\n",
    "\n",
    "elem = browser.find_element(\"id\", \"pass\")\n",
    "elem.send_keys(pwd)\n",
    "\n",
    "browser.find_element(\"xpath\",\"/html/body/div[1]/div[1]/div[1]/div/div/div/div[2]/div/div[1]/form/div[2]/button\").click()\n",
    "time.sleep(3)\n",
    "\n",
    "#search\n",
    "elem = browser.find_element(\"xpath\", \"/html/body/div[1]/div/div[1]/div/div[2]/div[3]/div/div/div/div/div/label/input\")\n",
    "elem.send_keys(keyword)\n",
    "elem.send_keys(Keys.RETURN)\n",
    "time.sleep(1)\n",
    "elem = browser.find_element(\"xpath\", \"/html/body/div[1]/div/div[1]/div/div[3]/div/div/div/div[2]/div[1]/div[1]/div/div[2]/div[1]/div[2]/div/div/div[2]/div/div[3]/div/a/div[1]\")\n",
    "elem.click()\n",
    "\n",
    "time.sleep(1)\n",
    "\n",
    "\"\"\"\n",
    "# 현재 scrollHeight 가져오기\n",
    "last_height = browser.execute_script(\"return document.body.scrollHeight\")\n",
    "\n",
    "while True:\n",
    "    # scrollHeight까지 스크롤\n",
    "    browser.execute_script(\"window.scrollTo(0, document.body.scrollHeight);\")\n",
    "\n",
    "    # 새로운 내용 로딩될때까지 기다림\n",
    "    time.sleep(0.5)\n",
    "\n",
    "    # 새로운 내용 로딩됐는지 확인\n",
    "    new_height = browser.execute_script(\"return document.body.scrollHeight\")\n",
    "#    print(\"new_height: \", new_height)\n",
    "    if new_height == last_height:\n",
    "        break\n",
    "    last_height = new_height\n",
    "#    print(\"laast_height: \", last_height)\n",
    "#    print(\"-------------------------\")\n",
    "\n",
    "\"\"\"\n",
    "\n",
    "\n",
    "soup = bs(browser.page_source, \"html.parser\") \n",
    "\n",
    "top_elements = soup.find_all(\"a\")\n"
   ]
  },
  {
   "cell_type": "code",
   "execution_count": 62,
   "id": "082ef16b",
   "metadata": {},
   "outputs": [],
   "source": [
    "final_href = []\n",
    "\n",
    "for i in top_elements:\n",
    "    href = i.attrs['href']\n",
    "    final_href.append(href)"
   ]
  },
  {
   "cell_type": "code",
   "execution_count": 67,
   "id": "9ab9e4bd",
   "metadata": {},
   "outputs": [
    {
     "name": "stdout",
     "output_type": "stream",
     "text": [
      "['https://www.facebook.com/profile.php?id=100093391917881']\n",
      "['https://www.facebook.com/profile.php?id=100055445097227', '__tn__=%3C']\n",
      "['https://www.facebook.com/profile.php?id=100055445097227']\n",
      "['https://www.facebook.com/profile.php?id=100015588133246', '__tn__=%3C']\n",
      "['https://www.facebook.com/profile.php?id=100015588133246']\n",
      "['https://www.facebook.com/profile.php?id=100031236492005', '__tn__=%3C']\n",
      "['https://www.facebook.com/profile.php?id=100031236492005']\n",
      "['https://www.facebook.com/profile.php?id=100085227364003', '__tn__=%3C']\n",
      "['https://www.facebook.com/profile.php?id=100085227364003']\n"
     ]
    }
   ],
   "source": [
    "url = \"https://www.facebook.com/profile.php?id=\"\n",
    "\n",
    "for i in final_href:\n",
    "    if url in i:\n",
    "        print(i.split(\"&\"))\n",
    "        if \n",
    "        \n",
    "\n"
   ]
  },
  {
   "cell_type": "code",
   "execution_count": 16,
   "id": "945d7129",
   "metadata": {},
   "outputs": [],
   "source": [
    "# print(soup.find_all(class_=\"\") "
   ]
  },
  {
   "cell_type": "raw",
   "id": "7df0f28c",
   "metadata": {},
   "source": []
  },
  {
   "cell_type": "code",
   "execution_count": 22,
   "id": "80048742",
   "metadata": {},
   "outputs": [
    {
     "name": "stdout",
     "output_type": "stream",
     "text": [
      "[] [] []\n"
     ]
    }
   ],
   "source": [
    "import requests\n",
    "from lxml.html import fromstring\n",
    "\n",
    "r = requests.get('https://www.rottentomatoes.com/m/leto')\n",
    "root = fromstring(r.text)\n",
    "\n",
    "directed = root.xpath(\"//*[contains(.,'Directed By')]/parent::*/*[@class='meta-value']/a/text()\")\n",
    "written = root.xpath(\"//*[contains(.,'Written By')]/parent::*/*[@class='meta-value']/a/text()\")\n",
    "written_links = root.xpath(\".//*[contains(.,'Written By')]/parent::*/*[@class='meta-value']/a//@href\")\n",
    "print(directed,written,written_links)"
   ]
  }
 ],
 "metadata": {
  "kernelspec": {
   "display_name": "Python 3 (ipykernel)",
   "language": "python",
   "name": "python3"
  },
  "language_info": {
   "codemirror_mode": {
    "name": "ipython",
    "version": 3
   },
   "file_extension": ".py",
   "mimetype": "text/x-python",
   "name": "python",
   "nbconvert_exporter": "python",
   "pygments_lexer": "ipython3",
   "version": "3.10.9"
  }
 },
 "nbformat": 4,
 "nbformat_minor": 5
}
